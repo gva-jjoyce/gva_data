{
 "cells": [
  {
   "cell_type": "markdown",
   "metadata": {},
   "source": [
    "# GVA Data Access Lab\n",
    "\n",
    "This lab is to help build a familiarity with accessing data on the GVA platform.\n",
    "\n",
    "A Python library is maintained to assist with working with GVA, it is not available on PyPI but can pip installed using the following command:"
   ]
  },
  {
   "cell_type": "code",
   "execution_count": null,
   "metadata": {},
   "outputs": [],
   "source": [
    "!pip install --upgrade git+https://github.com/gva-jjoyce/gva_data"
   ]
  },
  {
   "cell_type": "markdown",
   "metadata": {},
   "source": [
    "We are primarily going to use two components in the GVA library; the `Reader` and `dictset`. \n",
    "\n",
    "The `Reader` component helps with reading data, taking care of activities like uncompressing compressed data, joining data across partitions and searching across multiple days. `dictset` helps processing data.\n",
    "\n",
    "Once read, data can be loaded into `Pandas` to perform analysis. Whilst this is valid approach for most datasets, Pandas is memory intensive so some data may never be able to be loaded into Pandas or may need some treatment before loading, this is the purpose of the `dictset` component.\n",
    "\n",
    "Additional information on these libraries is available in the GitHub repo:\n",
    "\n",
    "https://github.com/gva-jjoyce/gva_data/blob/main/docs/gva.data.readers.md\n",
    "\n",
    "https://github.com/gva-jjoyce/gva_data/blob/main/docs/gva.data.formats.dictset.md"
   ]
  },
  {
   "cell_type": "code",
   "execution_count": 9,
   "metadata": {},
   "outputs": [],
   "source": [
    "from gva.data.readers import Reader, MinioReader\n",
    "from gva.data.formats import dictset\n",
    "from IPython.display import HTML, display"
   ]
  },
  {
   "cell_type": "markdown",
   "metadata": {},
   "source": [
    "The data in part one of this lab is from [FiveThirtyEight](https://fivethirtyeight.com/), the source data is available on the [FiveThirtyEight's GitHub account](https://github.com/fivethirtyeight/data/tree/master/star-wars-survey) and was the data used in Walt Hickey's [America’s Favorite ‘Star Wars’ Movies](https://fivethirtyeight.com/features/americas-favorite-star-wars-movies-and-least-favorite-characters/) article.\n",
    "\n",
    "To read the data, we use the `Reader` class and give it the path of data, the assigned variable is a _generator_, which behaves a lot like a _list_, but doesn't load the entire dataset into memory all at once. If we want to cycle over the set more than once we need to create a new `Reader` instance each time or convert the _generator_ to a _list_. Because the dataset is quite small, we will just covert the `Reader` to a _list_."
   ]
  },
  {
   "cell_type": "code",
   "execution_count": 10,
   "metadata": {},
   "outputs": [],
   "source": [
    "star_wars_survey_results = list(Reader(\n",
    "        reader=MinioReader,\n",
    "        from_path='SNAPSHOTS/DEMO/538/StarWars/star_wars.jsonl',\n",
    "        end_point='10.10.10.30:9000',\n",
    "        access_key='57BTIM68ETSQ7ZQG',\n",
    "        secret_key='LXWODW6DSZX9AD9TX9XBTW292KEOATGB',\n",
    "        secure=False))"
   ]
  },
  {
   "cell_type": "markdown",
   "metadata": {},
   "source": [
    "Most data on GVA has a README file which includes details of the schema of the file, once we have the data loaded we can display it similar to _Pandas_ using the `dictset.to_html_table` method (there is also a `dictset.to_ascii_table` method). This method with exhaust _generators_ (a new generator will need to be created to use the data) and is intended for exploration only. We've converted our dataset to a _list_ to avoid this issue."
   ]
  },
  {
   "cell_type": "code",
   "execution_count": 8,
   "metadata": {},
   "outputs": [
    {
     "data": {
      "text/html": [
       "<table class=\"table table-sm\"><thead class=\"thead-light\"><tr><th>RespondentID<th><th>Have you seen any of the 6 films in the Star Wars franchise?<th><th>Do you consider yourself to be a fan of the Star Wars film franchise?<th><th>Star Wars: Episode I  The Phantom Menace<th><th>Star Wars: Episode II  Attack of the Clones<th><th>Star Wars: Episode III  Revenge of the Sith<th><th>Star Wars: Episode IV  A New Hope<th><th>Star Wars: Episode V The Empire Strikes Back<th><th>Star Wars: Episode VI Return of the Jedi<th><th>Han Solo<th><th>Luke Skywalker<th><th>Princess Leia Organa<th><th>Anakin Skywalker<th><th>Obi Wan Kenobi<th><th>Emperor Palpatine<th><th>Darth Vader<th><th>Lando Calrissian<th><th>Boba Fett<th><th>C-3P0<th><th>R2 D2<th><th>Jar Jar Binks<th><th>Padme Amidala<th><th>Yoda<th><th>Which character shot first?<th><th>Are you familiar with the Expanded Universe?<th><th>Do you consider yourself to be a fan of the Expanded Universe?<th><th>Do you consider yourself to be a fan of the Star Trek franchise?<th><th>Gender<th><th>Age<th><th>Household Income<th><th>Education<th><th>Location (Census Region)<th></tr></thead><tbody><tr><td>3292879998<td><td>Yes<td><td>Yes<td><td>3<td><td>2<td><td>1<td><td>4<td><td>5<td><td>6<td><td>Very favorably<td><td>Very favorably<td><td>Very favorably<td><td>Very favorably<td><td>Very favorably<td><td>Very favorably<td><td>Very favorably<td><td>Unfamiliar (N/A)<td><td>Unfamiliar (N/A)<td><td>Very favorably<td><td>Very favorably<td><td>Very favorably<td><td>Very favorably<td><td>Very favorably<td><td>I don't understand this question<td><td>Yes<td><td>No<td><td>No<td><td>Male<td><td>18-29<td><td><td><td>High school degree<td><td>South Atlantic<td><tr><tr style=\"background-color:#F4F4F4\"><td>3292879538<td><td>No<td><td><td><td><td><td><td><td><td><td><td><td><td><td><td><td><td><td><td><td><td><td><td><td><td><td><td><td><td><td><td><td><td><td><td><td><td><td><td><td><td><td><td><td><td><td><td><td><td><td>Yes<td><td>Male<td><td>18-29<td><td>$0 - $24,999<td><td>Bachelor degree<td><td>West South Central<td><tr><tr><td>3292765271<td><td>Yes<td><td>No<td><td>1<td><td>2<td><td>3<td><td>4<td><td>5<td><td>6<td><td>Somewhat favorably<td><td>Somewhat favorably<td><td>Somewhat favorably<td><td>Somewhat favorably<td><td>Somewhat favorably<td><td>Unfamiliar (N/A)<td><td>Unfamiliar (N/A)<td><td>Unfamiliar (N/A)<td><td>Unfamiliar (N/A)<td><td>Unfamiliar (N/A)<td><td>Unfamiliar (N/A)<td><td>Unfamiliar (N/A)<td><td>Unfamiliar (N/A)<td><td>Unfamiliar (N/A)<td><td>I don't understand this question<td><td>No<td><td><td><td>No<td><td>Male<td><td>18-29<td><td>$0 - $24,999<td><td>High school degree<td><td>West North Central<td><tr><tr style=\"background-color:#F4F4F4\"><td>3292763116<td><td>Yes<td><td>Yes<td><td>5<td><td>6<td><td>1<td><td>2<td><td>4<td><td>3<td><td>Very favorably<td><td>Very favorably<td><td>Very favorably<td><td>Very favorably<td><td>Very favorably<td><td>Somewhat favorably<td><td>Very favorably<td><td>Somewhat favorably<td><td>Somewhat unfavorably<td><td>Very favorably<td><td>Very favorably<td><td>Very favorably<td><td>Very favorably<td><td>Very favorably<td><td>I don't understand this question<td><td>No<td><td><td><td>Yes<td><td>Male<td><td>18-29<td><td>$100,000 - $149,999<td><td>Some college or Associate degree<td><td>West North Central<td><tr><tr><td>3292731220<td><td>Yes<td><td>Yes<td><td>5<td><td>4<td><td>6<td><td>2<td><td>1<td><td>3<td><td>Very favorably<td><td>Somewhat favorably<td><td>Somewhat favorably<td><td>Somewhat unfavorably<td><td>Very favorably<td><td>Very unfavorably<td><td>Somewhat favorably<td><td>Neither favorably nor unfavorably (neutral)<td><td>Very favorably<td><td>Somewhat favorably<td><td>Somewhat favorably<td><td>Very unfavorably<td><td>Somewhat favorably<td><td>Somewhat favorably<td><td>Greedo<td><td>Yes<td><td>No<td><td>No<td><td>Male<td><td>18-29<td><td>$100,000 - $149,999<td><td>Some college or Associate degree<td><td>West North Central<td><tr></tbody></table><p>1186 rows x 32 columns</p>"
      ],
      "text/plain": [
       "<IPython.core.display.HTML object>"
      ]
     },
     "metadata": {},
     "output_type": "display_data"
    }
   ],
   "source": [
    "display(HTML(dictset.to_html_table(star_wars_survey_results)))"
   ]
  },
  {
   "cell_type": "markdown",
   "metadata": {},
   "source": [
    "We can see the responses to the first question are 'Yes'/'No', we're going to use `dictset.set_column` to convert these strings to a boolean. `dictset.set_column` takes three paramters:\n",
    "\n",
    "- The dictset to act on\n",
    "- The column to update or create\n",
    "- A setter, either a fixed value or a Callable to calculate the column\n",
    "\n",
    "Although a _lambda_ could be used as the _setter_, we're going to define a function to use as the setter as this is generally more reusable and easier to read and therefore debug.\n",
    "\n",
    "This function takes a column name and returns a function, this allows us to provide the name of the field rather than hard-coding the column name and could be used to convert any of ther other 'Yes'/'No' columns.\n",
    "\n",
    "We're also going to convert the resultant dataset to a list so we can iterate over it a number of times."
   ]
  },
  {
   "cell_type": "code",
   "execution_count": null,
   "metadata": {},
   "outputs": [],
   "source": [
    "def yes_no_to_boolean(column):\n",
    "    # return a function to be called for each row\n",
    "    def process_row(row):\n",
    "        return str(row.get(column)).lower() == 'yes'\n",
    "    return process_row\n",
    "\n",
    "yes_no_converted = list(dictset.set_column(\n",
    "        star_wars_survey_results, \n",
    "        'Have you seen any of the 6 films in the Star Wars franchise?',\n",
    "        setter=yes_no_to_boolean('Have you seen any of the 6 films in the Star Wars franchise?')))\n",
    "\n",
    "display(HTML(to_html_table(yes_no_converted)))"
   ]
  },
  {
   "cell_type": "markdown",
   "metadata": {},
   "source": [
    "## CHALLENGE ONE\n",
    "\n",
    "Your first challenge is to create a new field 'Greedo Shot First' based on the 'Which character shot first?' column. This new column should be set to `True` for every row where the respondent answered 'Greedo' for this column.\n",
    "\n",
    "You should call the resulting dataset _greedo_shot_first_, if you have the right answer the _TEST_ statement a few cells down will show success."
   ]
  },
  {
   "cell_type": "code",
   "execution_count": null,
   "metadata": {},
   "outputs": [],
   "source": []
  },
  {
   "cell_type": "code",
   "execution_count": null,
   "metadata": {},
   "outputs": [],
   "source": [
    "# CHALLENGE ONE TEST\n",
    "\n",
    "if len(list(dictset.select_from(greedo_shot_first, where=lambda row: row['Greedo Shot First']))) == 197:\n",
    "    display(HTML(\"<img src='https://media.giphy.com/media/111ebonMs90YLu/source.gif' width='480' align='center'>\"))\n",
    "else:\n",
    "    display(HTML(\"<img src='https://media.giphy.com/media/3ohuPwtVfPsxaMp0QM/giphy.gif' width='480' align='center'>\"))"
   ]
  },
  {
   "cell_type": "markdown",
   "metadata": {},
   "source": [
    "Selecting and filtering data is a common activity, simple actions can be done using `dictset`, either before or instead of loading into _Pandas_.\n",
    "\n",
    "We're going to count the people who responded that they liked Anakin but that they didn't like Vader. To do this we'll use `dictset.select_from`. This method takes three parameters:\n",
    "\n",
    "- The dictset to act on\n",
    "- columns - the list of columns to select (optional, default is all columns)\n",
    "- where - a function to filter rows (optional, default is include all records)\n",
    "\n",
    "There _where_ parameter can be a _lambda_, but again we'll define a function."
   ]
  },
  {
   "cell_type": "code",
   "execution_count": null,
   "metadata": {},
   "outputs": [],
   "source": [
    "def likes_anakin_but_not_vader(row):\n",
    "    # These are what we're classing as a positive or a negative response\n",
    "    positive_responses = ['Somewhat favorably', 'Very favorably']\n",
    "    negative_responses = ['Somewhat unfavorably', 'Very unfavorably']\n",
    "    \n",
    "    # Return True where Anakin is positive and Vader is negative\n",
    "    # rows that evaluate to True are kept, False are removed\n",
    "    return row['Anakin Skywalker'] in positive_responses and row['Darth Vader'] in negative_responses\n",
    "\n",
    "# Execute the selection against the star_wars data, using the function we defined above\n",
    "who_likes_anakin_but_not_vader = list(dictset.select_from(\n",
    "                star_wars_survey_results,\n",
    "                where=likes_anakin_but_not_vader))\n",
    "\n",
    "# Count the number \n",
    "f\"{len(who_likes_anakin_but_not_vader)} people reponded favorably about Anakin but unfavorably about Vader\""
   ]
  },
  {
   "cell_type": "markdown",
   "metadata": {},
   "source": [
    "## CHALLENGE TWO\n",
    "\n",
    "The numbers associated with each movie in the dataset is the order the respondent liked each movie, with 1 being their most favorite and 6 their least favorite.\n",
    "\n",
    "Your next challenge, and last with the Star Wars dataset, is working out how many people liked 'The Phantom Menace' more than 'The Empire Strikes Back'. You should call your dataset _likes_jarjar_over_yoda_, if you have the right answer the _TEST_ statement a few cells down will show success.\n",
    "\n",
    "If you are having trouble, be aware of the spaces in the movie titles."
   ]
  },
  {
   "cell_type": "code",
   "execution_count": null,
   "metadata": {},
   "outputs": [],
   "source": []
  },
  {
   "cell_type": "code",
   "execution_count": null,
   "metadata": {},
   "outputs": [],
   "source": [
    "# CHALLENGE TWO TEST\n",
    "\n",
    "if len(list(likes_jarjar_over_yoda)) == 214:\n",
    "    display(HTML(\"<img src='https://media.giphy.com/media/oGO1MPNUVbbk4/giphy.gif' width='480' align='center'>\"))\n",
    "else:\n",
    "    display(HTML(\"<img src='https://media.giphy.com/media/3ohzdMibqeBjRPX53W/giphy.gif' width='480' align='center'>\"))"
   ]
  },
  {
   "cell_type": "code",
   "execution_count": null,
   "metadata": {},
   "outputs": [],
   "source": []
  }
 ],
 "metadata": {
  "kernelspec": {
   "display_name": "Python 3",
   "language": "python",
   "name": "python3"
  },
  "language_info": {
   "codemirror_mode": {
    "name": "ipython",
    "version": 3
   },
   "file_extension": ".py",
   "mimetype": "text/x-python",
   "name": "python",
   "nbconvert_exporter": "python",
   "pygments_lexer": "ipython3",
   "version": "3.8.3"
  }
 },
 "nbformat": 4,
 "nbformat_minor": 4
}
